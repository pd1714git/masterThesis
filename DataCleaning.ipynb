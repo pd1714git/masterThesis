{
 "cells": [
  {
   "cell_type": "markdown",
   "metadata": {},
   "source": [
    "# Credit Default Swaps Data Sets"
   ]
  },
  {
   "cell_type": "code",
   "execution_count": 1,
   "metadata": {},
   "outputs": [],
   "source": [
    "import datetime\n",
    "import numpy as np\n",
    "import pandas as pd\n",
    "import matplotlib.pyplot as plt\n",
    "\n",
    "from scipy import stats"
   ]
  },
  {
   "cell_type": "markdown",
   "metadata": {},
   "source": [
    "## 1. Exploratory Data Analysis"
   ]
  },
  {
   "cell_type": "markdown",
   "metadata": {},
   "source": [
    "In this section we will explore the content of the datasets. "
   ]
  },
  {
   "cell_type": "markdown",
   "metadata": {},
   "source": [
    "### 1.1 Quotes Dataset"
   ]
  },
  {
   "cell_type": "markdown",
   "metadata": {},
   "source": [
    "This dataset contains a list of quotes for credit index swaps indices."
   ]
  },
  {
   "cell_type": "code",
   "execution_count": 2,
   "metadata": {},
   "outputs": [
    {
     "name": "stdout",
     "output_type": "stream",
     "text": [
      "Quotes shape: (41808694, 11)\n"
     ]
    }
   ],
   "source": [
    "df_quotes = pd.read_csv('Quotes.csv', header = None)\n",
    "print('Quotes shape: ' +str(df_quotes.shape))"
   ]
  },
  {
   "cell_type": "markdown",
   "metadata": {},
   "source": [
    "We have in the quotes data frame access to the data of 41 million quotes which are defined according to 10 different variables. "
   ]
  },
  {
   "cell_type": "code",
   "execution_count": 3,
   "metadata": {},
   "outputs": [
    {
     "data": {
      "text/html": [
       "<div>\n",
       "<style scoped>\n",
       "    .dataframe tbody tr th:only-of-type {\n",
       "        vertical-align: middle;\n",
       "    }\n",
       "\n",
       "    .dataframe tbody tr th {\n",
       "        vertical-align: top;\n",
       "    }\n",
       "\n",
       "    .dataframe thead th {\n",
       "        text-align: right;\n",
       "    }\n",
       "</style>\n",
       "<table border=\"1\" class=\"dataframe\">\n",
       "  <thead>\n",
       "    <tr style=\"text-align: right;\">\n",
       "      <th></th>\n",
       "      <th>0</th>\n",
       "      <th>1</th>\n",
       "      <th>2</th>\n",
       "      <th>3</th>\n",
       "      <th>4</th>\n",
       "      <th>5</th>\n",
       "      <th>6</th>\n",
       "      <th>7</th>\n",
       "      <th>8</th>\n",
       "      <th>9</th>\n",
       "      <th>10</th>\n",
       "    </tr>\n",
       "  </thead>\n",
       "  <tbody>\n",
       "    <tr>\n",
       "      <th>0</th>\n",
       "      <td>ADGB-2412-100</td>\n",
       "      <td>2020-03-09 14:02:43.697</td>\n",
       "      <td>Market</td>\n",
       "      <td>Bid</td>\n",
       "      <td>10000000.0</td>\n",
       "      <td>85.0</td>\n",
       "      <td>100.696249</td>\n",
       "      <td>-0.696249</td>\n",
       "      <td>0.0</td>\n",
       "      <td>BARX</td>\n",
       "      <td>NaN</td>\n",
       "    </tr>\n",
       "    <tr>\n",
       "      <th>1</th>\n",
       "      <td>ADGB-2412-100</td>\n",
       "      <td>2020-03-09 14:02:43.697</td>\n",
       "      <td>Market</td>\n",
       "      <td>Offer</td>\n",
       "      <td>10000000.0</td>\n",
       "      <td>95.0</td>\n",
       "      <td>100.231346</td>\n",
       "      <td>-0.231346</td>\n",
       "      <td>0.0</td>\n",
       "      <td>BARX</td>\n",
       "      <td>NaN</td>\n",
       "    </tr>\n",
       "    <tr>\n",
       "      <th>2</th>\n",
       "      <td>ADGB-2412-100</td>\n",
       "      <td>2020-03-09 14:04:09.540</td>\n",
       "      <td>Market</td>\n",
       "      <td>Bid</td>\n",
       "      <td>10000000.0</td>\n",
       "      <td>85.0</td>\n",
       "      <td>100.696249</td>\n",
       "      <td>-0.696249</td>\n",
       "      <td>0.0</td>\n",
       "      <td>BARX</td>\n",
       "      <td>NaN</td>\n",
       "    </tr>\n",
       "    <tr>\n",
       "      <th>3</th>\n",
       "      <td>ADGB-2412-100</td>\n",
       "      <td>2020-03-09 19:00:09.847</td>\n",
       "      <td>Market</td>\n",
       "      <td>Bid</td>\n",
       "      <td>10000000.0</td>\n",
       "      <td>85.0</td>\n",
       "      <td>100.696249</td>\n",
       "      <td>-0.696249</td>\n",
       "      <td>0.0</td>\n",
       "      <td>BARX</td>\n",
       "      <td>NaN</td>\n",
       "    </tr>\n",
       "    <tr>\n",
       "      <th>4</th>\n",
       "      <td>ADGB-2412-100</td>\n",
       "      <td>2020-03-09 19:00:09.847</td>\n",
       "      <td>Market</td>\n",
       "      <td>Offer</td>\n",
       "      <td>10000000.0</td>\n",
       "      <td>95.0</td>\n",
       "      <td>100.231346</td>\n",
       "      <td>-0.231346</td>\n",
       "      <td>0.0</td>\n",
       "      <td>BARX</td>\n",
       "      <td>NaN</td>\n",
       "    </tr>\n",
       "  </tbody>\n",
       "</table>\n",
       "</div>"
      ],
      "text/plain": [
       "              0                        1       2      3           4     5   \\\n",
       "0  ADGB-2412-100  2020-03-09 14:02:43.697  Market    Bid  10000000.0  85.0   \n",
       "1  ADGB-2412-100  2020-03-09 14:02:43.697  Market  Offer  10000000.0  95.0   \n",
       "2  ADGB-2412-100  2020-03-09 14:04:09.540  Market    Bid  10000000.0  85.0   \n",
       "3  ADGB-2412-100  2020-03-09 19:00:09.847  Market    Bid  10000000.0  85.0   \n",
       "4  ADGB-2412-100  2020-03-09 19:00:09.847  Market  Offer  10000000.0  95.0   \n",
       "\n",
       "           6         7    8     9   10  \n",
       "0  100.696249 -0.696249  0.0  BARX NaN  \n",
       "1  100.231346 -0.231346  0.0  BARX NaN  \n",
       "2  100.696249 -0.696249  0.0  BARX NaN  \n",
       "3  100.696249 -0.696249  0.0  BARX NaN  \n",
       "4  100.231346 -0.231346  0.0  BARX NaN  "
      ]
     },
     "execution_count": 3,
     "metadata": {},
     "output_type": "execute_result"
    }
   ],
   "source": [
    "df_quotes.head()"
   ]
  },
  {
   "cell_type": "markdown",
   "metadata": {},
   "source": [
    "The 10 fields contain only floats and objects"
   ]
  },
  {
   "cell_type": "code",
   "execution_count": 4,
   "metadata": {},
   "outputs": [
    {
     "data": {
      "text/plain": [
       "0      object\n",
       "1      object\n",
       "2      object\n",
       "3      object\n",
       "4     float64\n",
       "5     float64\n",
       "6     float64\n",
       "7     float64\n",
       "8     float64\n",
       "9      object\n",
       "10    float64\n",
       "dtype: object"
      ]
     },
     "execution_count": 4,
     "metadata": {},
     "output_type": "execute_result"
    }
   ],
   "source": [
    "df_quotes.dtypes"
   ]
  },
  {
   "cell_type": "markdown",
   "metadata": {},
   "source": [
    "The last row is empty"
   ]
  },
  {
   "cell_type": "code",
   "execution_count": 5,
   "metadata": {},
   "outputs": [
    {
     "data": {
      "text/plain": [
       "0     0.000000\n",
       "1     0.000000\n",
       "2     0.000000\n",
       "3     0.000000\n",
       "4     0.021715\n",
       "5     0.027062\n",
       "6     0.023770\n",
       "7     0.023770\n",
       "8     0.023770\n",
       "9     0.000000\n",
       "10         inf\n",
       "dtype: float64"
      ]
     },
     "execution_count": 5,
     "metadata": {},
     "output_type": "execute_result"
    }
   ],
   "source": [
    "df_quotes.isna().sum()/df_quotes.count()"
   ]
  },
  {
   "cell_type": "markdown",
   "metadata": {},
   "source": [
    "We remove the last row and assign the right column names to the field values"
   ]
  },
  {
   "cell_type": "code",
   "execution_count": 6,
   "metadata": {},
   "outputs": [],
   "source": [
    "df_quotes.drop(10, axis=1, inplace = True)\n",
    "df_quotes.columns = ['ticker', 'valueDate', 'priceType', 'priceDirection', 'size', 'spread', 'price', 'upfront', 'switchStatus', 'firm']\n",
    "df_quotes['valueDate'] = pd.to_datetime(df_quotes['valueDate'])"
   ]
  },
  {
   "cell_type": "markdown",
   "metadata": {},
   "source": [
    "Since we are dealing with a timeseries problem we set the index to the datetime values."
   ]
  },
  {
   "cell_type": "code",
   "execution_count": 7,
   "metadata": {},
   "outputs": [
    {
     "data": {
      "text/html": [
       "<div>\n",
       "<style scoped>\n",
       "    .dataframe tbody tr th:only-of-type {\n",
       "        vertical-align: middle;\n",
       "    }\n",
       "\n",
       "    .dataframe tbody tr th {\n",
       "        vertical-align: top;\n",
       "    }\n",
       "\n",
       "    .dataframe thead th {\n",
       "        text-align: right;\n",
       "    }\n",
       "</style>\n",
       "<table border=\"1\" class=\"dataframe\">\n",
       "  <thead>\n",
       "    <tr style=\"text-align: right;\">\n",
       "      <th></th>\n",
       "      <th>ticker</th>\n",
       "      <th>priceType</th>\n",
       "      <th>priceDirection</th>\n",
       "      <th>size</th>\n",
       "      <th>spread</th>\n",
       "      <th>price</th>\n",
       "      <th>upfront</th>\n",
       "      <th>switchStatus</th>\n",
       "      <th>firm</th>\n",
       "    </tr>\n",
       "    <tr>\n",
       "      <th>valueDate</th>\n",
       "      <th></th>\n",
       "      <th></th>\n",
       "      <th></th>\n",
       "      <th></th>\n",
       "      <th></th>\n",
       "      <th></th>\n",
       "      <th></th>\n",
       "      <th></th>\n",
       "      <th></th>\n",
       "    </tr>\n",
       "  </thead>\n",
       "  <tbody>\n",
       "    <tr>\n",
       "      <th>2020-03-09 14:02:43.697</th>\n",
       "      <td>ADGB-2412-100</td>\n",
       "      <td>Market</td>\n",
       "      <td>Bid</td>\n",
       "      <td>10000000.0</td>\n",
       "      <td>85.0</td>\n",
       "      <td>100.696249</td>\n",
       "      <td>-0.696249</td>\n",
       "      <td>0.0</td>\n",
       "      <td>BARX</td>\n",
       "    </tr>\n",
       "    <tr>\n",
       "      <th>2020-03-09 14:02:43.697</th>\n",
       "      <td>ADGB-2412-100</td>\n",
       "      <td>Market</td>\n",
       "      <td>Offer</td>\n",
       "      <td>10000000.0</td>\n",
       "      <td>95.0</td>\n",
       "      <td>100.231346</td>\n",
       "      <td>-0.231346</td>\n",
       "      <td>0.0</td>\n",
       "      <td>BARX</td>\n",
       "    </tr>\n",
       "    <tr>\n",
       "      <th>2020-03-09 14:04:09.540</th>\n",
       "      <td>ADGB-2412-100</td>\n",
       "      <td>Market</td>\n",
       "      <td>Bid</td>\n",
       "      <td>10000000.0</td>\n",
       "      <td>85.0</td>\n",
       "      <td>100.696249</td>\n",
       "      <td>-0.696249</td>\n",
       "      <td>0.0</td>\n",
       "      <td>BARX</td>\n",
       "    </tr>\n",
       "    <tr>\n",
       "      <th>2020-03-09 19:00:09.847</th>\n",
       "      <td>ADGB-2412-100</td>\n",
       "      <td>Market</td>\n",
       "      <td>Bid</td>\n",
       "      <td>10000000.0</td>\n",
       "      <td>85.0</td>\n",
       "      <td>100.696249</td>\n",
       "      <td>-0.696249</td>\n",
       "      <td>0.0</td>\n",
       "      <td>BARX</td>\n",
       "    </tr>\n",
       "    <tr>\n",
       "      <th>2020-03-09 19:00:09.847</th>\n",
       "      <td>ADGB-2412-100</td>\n",
       "      <td>Market</td>\n",
       "      <td>Offer</td>\n",
       "      <td>10000000.0</td>\n",
       "      <td>95.0</td>\n",
       "      <td>100.231346</td>\n",
       "      <td>-0.231346</td>\n",
       "      <td>0.0</td>\n",
       "      <td>BARX</td>\n",
       "    </tr>\n",
       "  </tbody>\n",
       "</table>\n",
       "</div>"
      ],
      "text/plain": [
       "                                ticker priceType priceDirection        size  \\\n",
       "valueDate                                                                     \n",
       "2020-03-09 14:02:43.697  ADGB-2412-100    Market            Bid  10000000.0   \n",
       "2020-03-09 14:02:43.697  ADGB-2412-100    Market          Offer  10000000.0   \n",
       "2020-03-09 14:04:09.540  ADGB-2412-100    Market            Bid  10000000.0   \n",
       "2020-03-09 19:00:09.847  ADGB-2412-100    Market            Bid  10000000.0   \n",
       "2020-03-09 19:00:09.847  ADGB-2412-100    Market          Offer  10000000.0   \n",
       "\n",
       "                         spread       price   upfront  switchStatus  firm  \n",
       "valueDate                                                                  \n",
       "2020-03-09 14:02:43.697    85.0  100.696249 -0.696249           0.0  BARX  \n",
       "2020-03-09 14:02:43.697    95.0  100.231346 -0.231346           0.0  BARX  \n",
       "2020-03-09 14:04:09.540    85.0  100.696249 -0.696249           0.0  BARX  \n",
       "2020-03-09 19:00:09.847    85.0  100.696249 -0.696249           0.0  BARX  \n",
       "2020-03-09 19:00:09.847    95.0  100.231346 -0.231346           0.0  BARX  "
      ]
     },
     "execution_count": 7,
     "metadata": {},
     "output_type": "execute_result"
    }
   ],
   "source": [
    "df_quotes.set_index('valueDate', inplace = True)\n",
    "df_quotes.head()"
   ]
  },
  {
   "cell_type": "markdown",
   "metadata": {},
   "source": [
    "### 1.2 Quotes Universe Dataset"
   ]
  },
  {
   "cell_type": "markdown",
   "metadata": {},
   "source": [
    "This dataset contains information for each different type of credit index swaps emitted over the years"
   ]
  },
  {
   "cell_type": "code",
   "execution_count": 10,
   "metadata": {},
   "outputs": [
    {
     "name": "stdout",
     "output_type": "stream",
     "text": [
      "Quotes Universe shape: (49391, 11)\n"
     ]
    }
   ],
   "source": [
    "df_universe = pd.read_csv('Universe.csv', header = None, index_col = False)\n",
    "print('Quotes Universe shape: ' +str(df_universe.shape))"
   ]
  },
  {
   "cell_type": "markdown",
   "metadata": {},
   "source": [
    "We have access to around 50 thousand types of credit indices which can be defined according to 11 different variables. The variables obtained are either floats or objects."
   ]
  },
  {
   "cell_type": "code",
   "execution_count": 11,
   "metadata": {},
   "outputs": [
    {
     "data": {
      "text/plain": [
       "0      object\n",
       "1      object\n",
       "2      object\n",
       "3      object\n",
       "4      object\n",
       "5      object\n",
       "6      object\n",
       "7      object\n",
       "8     float64\n",
       "9      object\n",
       "10     object\n",
       "dtype: object"
      ]
     },
     "execution_count": 11,
     "metadata": {},
     "output_type": "execute_result"
    }
   ],
   "source": [
    "df_universe.dtypes"
   ]
  },
  {
   "cell_type": "markdown",
   "metadata": {},
   "source": [
    "Certain fields have a large amount of data missing meaning that they will not be able to bring accurate information"
   ]
  },
  {
   "cell_type": "code",
   "execution_count": 12,
   "metadata": {},
   "outputs": [
    {
     "data": {
      "text/plain": [
       "0     0.000000\n",
       "1     0.139985\n",
       "2     0.140459\n",
       "3     0.139880\n",
       "4     0.439887\n",
       "5     0.139985\n",
       "6     0.142490\n",
       "7     0.139880\n",
       "8     0.139880\n",
       "9     0.000000\n",
       "10    0.139880\n",
       "dtype: float64"
      ]
     },
     "execution_count": 12,
     "metadata": {},
     "output_type": "execute_result"
    }
   ],
   "source": [
    "df_universe.isna().sum()/df_universe.count()"
   ]
  },
  {
   "cell_type": "markdown",
   "metadata": {},
   "source": [
    "We name the columns according to the index given by Hellebore and we select the tickers which are heavily traded upon=, those are the CDX and ITX indeces. "
   ]
  },
  {
   "cell_type": "code",
   "execution_count": 13,
   "metadata": {},
   "outputs": [],
   "source": [
    "df_universe.columns = ['ticker_universe','creditCurve', 'label', 'endDate', 'maturity','seniority','docClause','currency', 'coupon','instrument','family']\n",
    "df_universe = df_universe.loc[df_universe['family'].isin(['CDXEM','CDXIG', 'CDXHY', 'ITXES', 'ITXEX', 'ITXEB'])]\n",
    "df_universe['endDate'] = pd.to_datetime(df_universe['endDate'])"
   ]
  },
  {
   "cell_type": "code",
   "execution_count": 14,
   "metadata": {},
   "outputs": [
    {
     "data": {
      "text/html": [
       "<div>\n",
       "<style scoped>\n",
       "    .dataframe tbody tr th:only-of-type {\n",
       "        vertical-align: middle;\n",
       "    }\n",
       "\n",
       "    .dataframe tbody tr th {\n",
       "        vertical-align: top;\n",
       "    }\n",
       "\n",
       "    .dataframe thead th {\n",
       "        text-align: right;\n",
       "    }\n",
       "</style>\n",
       "<table border=\"1\" class=\"dataframe\">\n",
       "  <thead>\n",
       "    <tr style=\"text-align: right;\">\n",
       "      <th></th>\n",
       "      <th>ticker_universe</th>\n",
       "      <th>creditCurve</th>\n",
       "      <th>label</th>\n",
       "      <th>endDate</th>\n",
       "      <th>maturity</th>\n",
       "      <th>seniority</th>\n",
       "      <th>docClause</th>\n",
       "      <th>currency</th>\n",
       "      <th>coupon</th>\n",
       "      <th>instrument</th>\n",
       "      <th>family</th>\n",
       "    </tr>\n",
       "  </thead>\n",
       "  <tbody>\n",
       "    <tr>\n",
       "      <th>4807</th>\n",
       "      <td>CDXEM025</td>\n",
       "      <td>CDXEM25</td>\n",
       "      <td>CDX.EM.25</td>\n",
       "      <td>2026-06-20</td>\n",
       "      <td>10Y</td>\n",
       "      <td>SEN</td>\n",
       "      <td>CR14</td>\n",
       "      <td>USD</td>\n",
       "      <td>100.0</td>\n",
       "      <td>CIS</td>\n",
       "      <td>CDXEM</td>\n",
       "    </tr>\n",
       "    <tr>\n",
       "      <th>4808</th>\n",
       "      <td>CDXEM517</td>\n",
       "      <td>CDXEM17</td>\n",
       "      <td>MARKIT CDX.EM.17 06/17*</td>\n",
       "      <td>2017-06-20</td>\n",
       "      <td>5Y</td>\n",
       "      <td>Sen</td>\n",
       "      <td>CR14</td>\n",
       "      <td>USD</td>\n",
       "      <td>500.0</td>\n",
       "      <td>CIS</td>\n",
       "      <td>CDXEM</td>\n",
       "    </tr>\n",
       "    <tr>\n",
       "      <th>4809</th>\n",
       "      <td>CDXEM523</td>\n",
       "      <td>CDXEM23</td>\n",
       "      <td>CDX.EM.23</td>\n",
       "      <td>2020-06-20</td>\n",
       "      <td>5Y</td>\n",
       "      <td>SEN</td>\n",
       "      <td>CR14</td>\n",
       "      <td>USD</td>\n",
       "      <td>100.0</td>\n",
       "      <td>CIS</td>\n",
       "      <td>CDXEM</td>\n",
       "    </tr>\n",
       "    <tr>\n",
       "      <th>4813</th>\n",
       "      <td>CDXEM728</td>\n",
       "      <td>CDXEM28</td>\n",
       "      <td>CDX.EM.28</td>\n",
       "      <td>2024-12-20</td>\n",
       "      <td>7Y</td>\n",
       "      <td>SEN</td>\n",
       "      <td>CR14</td>\n",
       "      <td>USD</td>\n",
       "      <td>100.0</td>\n",
       "      <td>CIS</td>\n",
       "      <td>CDXEM</td>\n",
       "    </tr>\n",
       "    <tr>\n",
       "      <th>4815</th>\n",
       "      <td>CDXHY523</td>\n",
       "      <td>CDXHY23</td>\n",
       "      <td>CDX.NA.HY.23</td>\n",
       "      <td>2019-12-20</td>\n",
       "      <td>5Y</td>\n",
       "      <td>SEN</td>\n",
       "      <td>XR14</td>\n",
       "      <td>USD</td>\n",
       "      <td>500.0</td>\n",
       "      <td>CIS</td>\n",
       "      <td>CDXHY</td>\n",
       "    </tr>\n",
       "  </tbody>\n",
       "</table>\n",
       "</div>"
      ],
      "text/plain": [
       "     ticker_universe creditCurve                    label    endDate maturity  \\\n",
       "4807        CDXEM025     CDXEM25                CDX.EM.25 2026-06-20      10Y   \n",
       "4808        CDXEM517     CDXEM17  MARKIT CDX.EM.17 06/17* 2017-06-20       5Y   \n",
       "4809        CDXEM523     CDXEM23                CDX.EM.23 2020-06-20       5Y   \n",
       "4813        CDXEM728     CDXEM28                CDX.EM.28 2024-12-20       7Y   \n",
       "4815        CDXHY523     CDXHY23             CDX.NA.HY.23 2019-12-20       5Y   \n",
       "\n",
       "     seniority docClause currency  coupon instrument family  \n",
       "4807       SEN      CR14      USD   100.0        CIS  CDXEM  \n",
       "4808       Sen      CR14      USD   500.0        CIS  CDXEM  \n",
       "4809       SEN      CR14      USD   100.0        CIS  CDXEM  \n",
       "4813       SEN      CR14      USD   100.0        CIS  CDXEM  \n",
       "4815       SEN      XR14      USD   500.0        CIS  CDXHY  "
      ]
     },
     "execution_count": 14,
     "metadata": {},
     "output_type": "execute_result"
    }
   ],
   "source": [
    "df_universe.head()"
   ]
  },
  {
   "cell_type": "markdown",
   "metadata": {},
   "source": [
    "### 1.3 Trades Dateset"
   ]
  },
  {
   "cell_type": "markdown",
   "metadata": {},
   "source": [
    "The third dataset is the trades which is used by the company to monitor all the trades which have been performed by the company on a credit index swap."
   ]
  },
  {
   "cell_type": "code",
   "execution_count": 15,
   "metadata": {},
   "outputs": [
    {
     "name": "stdout",
     "output_type": "stream",
     "text": [
      "Trades shape: (1468715, 11)\n"
     ]
    }
   ],
   "source": [
    "df_trades = pd.read_csv('Trades.csv', header= None)\n",
    "print('Trades shape: ' +str(df_trades.shape))"
   ]
  },
  {
   "cell_type": "markdown",
   "metadata": {},
   "source": [
    "There are 1.5 million trades which have been registered on the trades database."
   ]
  },
  {
   "cell_type": "code",
   "execution_count": 16,
   "metadata": {
    "scrolled": true
   },
   "outputs": [
    {
     "data": {
      "text/html": [
       "<div>\n",
       "<style scoped>\n",
       "    .dataframe tbody tr th:only-of-type {\n",
       "        vertical-align: middle;\n",
       "    }\n",
       "\n",
       "    .dataframe tbody tr th {\n",
       "        vertical-align: top;\n",
       "    }\n",
       "\n",
       "    .dataframe thead th {\n",
       "        text-align: right;\n",
       "    }\n",
       "</style>\n",
       "<table border=\"1\" class=\"dataframe\">\n",
       "  <thead>\n",
       "    <tr style=\"text-align: right;\">\n",
       "      <th></th>\n",
       "      <th>0</th>\n",
       "      <th>1</th>\n",
       "      <th>2</th>\n",
       "      <th>3</th>\n",
       "      <th>4</th>\n",
       "      <th>5</th>\n",
       "      <th>6</th>\n",
       "      <th>7</th>\n",
       "      <th>8</th>\n",
       "      <th>9</th>\n",
       "      <th>10</th>\n",
       "    </tr>\n",
       "  </thead>\n",
       "  <tbody>\n",
       "    <tr>\n",
       "      <th>0</th>\n",
       "      <td>CDXEM530</td>\n",
       "      <td>2018-12-11 13:20:39.000</td>\n",
       "      <td>Trade</td>\n",
       "      <td>Level</td>\n",
       "      <td>3000000.0</td>\n",
       "      <td>204.931700</td>\n",
       "      <td>95.35</td>\n",
       "      <td>4.65</td>\n",
       "      <td>0.0</td>\n",
       "      <td>Dtcc SEF</td>\n",
       "      <td>NaN</td>\n",
       "    </tr>\n",
       "    <tr>\n",
       "      <th>1</th>\n",
       "      <td>CDXEM530</td>\n",
       "      <td>2018-12-11 13:21:36.000</td>\n",
       "      <td>Trade</td>\n",
       "      <td>Level</td>\n",
       "      <td>10000000.0</td>\n",
       "      <td>204.698145</td>\n",
       "      <td>95.36</td>\n",
       "      <td>4.64</td>\n",
       "      <td>0.0</td>\n",
       "      <td>Dtcc OTC</td>\n",
       "      <td>NaN</td>\n",
       "    </tr>\n",
       "    <tr>\n",
       "      <th>2</th>\n",
       "      <td>CDXEM530</td>\n",
       "      <td>2018-12-11 13:33:06.000</td>\n",
       "      <td>Trade</td>\n",
       "      <td>Level</td>\n",
       "      <td>10000000.0</td>\n",
       "      <td>205.632580</td>\n",
       "      <td>95.32</td>\n",
       "      <td>4.68</td>\n",
       "      <td>0.0</td>\n",
       "      <td>Dtcc OTC</td>\n",
       "      <td>NaN</td>\n",
       "    </tr>\n",
       "    <tr>\n",
       "      <th>3</th>\n",
       "      <td>CDXEM530</td>\n",
       "      <td>2018-12-11 13:45:45.000</td>\n",
       "      <td>Trade</td>\n",
       "      <td>Level</td>\n",
       "      <td>10000000.0</td>\n",
       "      <td>204.698145</td>\n",
       "      <td>95.36</td>\n",
       "      <td>4.64</td>\n",
       "      <td>0.0</td>\n",
       "      <td>Dtcc SEF</td>\n",
       "      <td>NaN</td>\n",
       "    </tr>\n",
       "    <tr>\n",
       "      <th>4</th>\n",
       "      <td>CDXEM530</td>\n",
       "      <td>2018-12-11 13:45:53.000</td>\n",
       "      <td>Trade</td>\n",
       "      <td>Level</td>\n",
       "      <td>10000000.0</td>\n",
       "      <td>204.698145</td>\n",
       "      <td>95.36</td>\n",
       "      <td>4.64</td>\n",
       "      <td>0.0</td>\n",
       "      <td>Dtcc SEF</td>\n",
       "      <td>NaN</td>\n",
       "    </tr>\n",
       "  </tbody>\n",
       "</table>\n",
       "</div>"
      ],
      "text/plain": [
       "         0                        1      2      3           4           5   \\\n",
       "0  CDXEM530  2018-12-11 13:20:39.000  Trade  Level   3000000.0  204.931700   \n",
       "1  CDXEM530  2018-12-11 13:21:36.000  Trade  Level  10000000.0  204.698145   \n",
       "2  CDXEM530  2018-12-11 13:33:06.000  Trade  Level  10000000.0  205.632580   \n",
       "3  CDXEM530  2018-12-11 13:45:45.000  Trade  Level  10000000.0  204.698145   \n",
       "4  CDXEM530  2018-12-11 13:45:53.000  Trade  Level  10000000.0  204.698145   \n",
       "\n",
       "      6     7    8         9   10  \n",
       "0  95.35  4.65  0.0  Dtcc SEF NaN  \n",
       "1  95.36  4.64  0.0  Dtcc OTC NaN  \n",
       "2  95.32  4.68  0.0  Dtcc OTC NaN  \n",
       "3  95.36  4.64  0.0  Dtcc SEF NaN  \n",
       "4  95.36  4.64  0.0  Dtcc SEF NaN  "
      ]
     },
     "execution_count": 16,
     "metadata": {},
     "output_type": "execute_result"
    }
   ],
   "source": [
    "df_trades.head()"
   ]
  },
  {
   "cell_type": "markdown",
   "metadata": {},
   "source": [
    "The last column is empty"
   ]
  },
  {
   "cell_type": "code",
   "execution_count": 17,
   "metadata": {},
   "outputs": [
    {
     "data": {
      "text/plain": [
       "0     0.000000\n",
       "1     0.000000\n",
       "2     0.000000\n",
       "3     0.000000\n",
       "4     0.000016\n",
       "5     0.029456\n",
       "6     0.004573\n",
       "7     0.004599\n",
       "8     0.004573\n",
       "9     0.000000\n",
       "10         inf\n",
       "dtype: float64"
      ]
     },
     "execution_count": 17,
     "metadata": {},
     "output_type": "execute_result"
    }
   ],
   "source": [
    "df_trades.isna().sum()/df_trades.count()"
   ]
  },
  {
   "cell_type": "markdown",
   "metadata": {},
   "source": [
    "We drop the last field where there are only null values, name the columns and set index to the datetime values."
   ]
  },
  {
   "cell_type": "code",
   "execution_count": 18,
   "metadata": {},
   "outputs": [],
   "source": [
    "df_trades.drop(10, axis=1, inplace = True)\n",
    "df_trades.columns = ['ticker', 'valueDate', 'priceType', 'priceDirection', 'size', 'spread', 'price', 'upfront', 'switchStatus', 'firm']\n",
    "df_trades['valueDate'] = pd.to_datetime(df_trades['valueDate'])\n",
    "df_trades['valueDate_hour'] = df_trades['valueDate']\n",
    "df_trades.sort_index(inplace=True, ascending=True)"
   ]
  },
  {
   "cell_type": "markdown",
   "metadata": {},
   "source": [
    "Add the information from quotes universe for the credit index swap which is currently being studied."
   ]
  },
  {
   "cell_type": "code",
   "execution_count": 19,
   "metadata": {},
   "outputs": [
    {
     "name": "stdout",
     "output_type": "stream",
     "text": [
      "Trades shape: (1425275, 21)\n"
     ]
    }
   ],
   "source": [
    "df_trades = df_trades.merge(df_universe, how='inner', left_on = 'ticker', right_on = 'ticker_universe')\n",
    "df_trades.set_index('valueDate',inplace=True)\n",
    "print('Trades shape: ' +str(df_trades.shape))"
   ]
  },
  {
   "cell_type": "code",
   "execution_count": 20,
   "metadata": {},
   "outputs": [
    {
     "data": {
      "text/html": [
       "<div>\n",
       "<style scoped>\n",
       "    .dataframe tbody tr th:only-of-type {\n",
       "        vertical-align: middle;\n",
       "    }\n",
       "\n",
       "    .dataframe tbody tr th {\n",
       "        vertical-align: top;\n",
       "    }\n",
       "\n",
       "    .dataframe thead th {\n",
       "        text-align: right;\n",
       "    }\n",
       "</style>\n",
       "<table border=\"1\" class=\"dataframe\">\n",
       "  <thead>\n",
       "    <tr style=\"text-align: right;\">\n",
       "      <th></th>\n",
       "      <th>ticker</th>\n",
       "      <th>priceType</th>\n",
       "      <th>priceDirection</th>\n",
       "      <th>size</th>\n",
       "      <th>spread</th>\n",
       "      <th>price</th>\n",
       "      <th>upfront</th>\n",
       "      <th>switchStatus</th>\n",
       "      <th>firm</th>\n",
       "      <th>valueDate_hour</th>\n",
       "      <th>...</th>\n",
       "      <th>creditCurve</th>\n",
       "      <th>label</th>\n",
       "      <th>endDate</th>\n",
       "      <th>maturity</th>\n",
       "      <th>seniority</th>\n",
       "      <th>docClause</th>\n",
       "      <th>currency</th>\n",
       "      <th>coupon</th>\n",
       "      <th>instrument</th>\n",
       "      <th>family</th>\n",
       "    </tr>\n",
       "    <tr>\n",
       "      <th>valueDate</th>\n",
       "      <th></th>\n",
       "      <th></th>\n",
       "      <th></th>\n",
       "      <th></th>\n",
       "      <th></th>\n",
       "      <th></th>\n",
       "      <th></th>\n",
       "      <th></th>\n",
       "      <th></th>\n",
       "      <th></th>\n",
       "      <th></th>\n",
       "      <th></th>\n",
       "      <th></th>\n",
       "      <th></th>\n",
       "      <th></th>\n",
       "      <th></th>\n",
       "      <th></th>\n",
       "      <th></th>\n",
       "      <th></th>\n",
       "      <th></th>\n",
       "      <th></th>\n",
       "    </tr>\n",
       "  </thead>\n",
       "  <tbody>\n",
       "    <tr>\n",
       "      <th>2018-12-11 13:20:39</th>\n",
       "      <td>CDXEM530</td>\n",
       "      <td>Trade</td>\n",
       "      <td>Level</td>\n",
       "      <td>3000000.0</td>\n",
       "      <td>204.931700</td>\n",
       "      <td>95.35</td>\n",
       "      <td>4.65</td>\n",
       "      <td>0.0</td>\n",
       "      <td>Dtcc SEF</td>\n",
       "      <td>2018-12-11 13:20:39</td>\n",
       "      <td>...</td>\n",
       "      <td>CDXEM30</td>\n",
       "      <td>CDX.EM.30</td>\n",
       "      <td>2023-12-20</td>\n",
       "      <td>5Y</td>\n",
       "      <td>SEN</td>\n",
       "      <td>NaN</td>\n",
       "      <td>USD</td>\n",
       "      <td>100.0</td>\n",
       "      <td>CIS</td>\n",
       "      <td>CDXEM</td>\n",
       "    </tr>\n",
       "    <tr>\n",
       "      <th>2018-12-11 13:21:36</th>\n",
       "      <td>CDXEM530</td>\n",
       "      <td>Trade</td>\n",
       "      <td>Level</td>\n",
       "      <td>10000000.0</td>\n",
       "      <td>204.698145</td>\n",
       "      <td>95.36</td>\n",
       "      <td>4.64</td>\n",
       "      <td>0.0</td>\n",
       "      <td>Dtcc OTC</td>\n",
       "      <td>2018-12-11 13:21:36</td>\n",
       "      <td>...</td>\n",
       "      <td>CDXEM30</td>\n",
       "      <td>CDX.EM.30</td>\n",
       "      <td>2023-12-20</td>\n",
       "      <td>5Y</td>\n",
       "      <td>SEN</td>\n",
       "      <td>NaN</td>\n",
       "      <td>USD</td>\n",
       "      <td>100.0</td>\n",
       "      <td>CIS</td>\n",
       "      <td>CDXEM</td>\n",
       "    </tr>\n",
       "    <tr>\n",
       "      <th>2018-12-11 13:33:06</th>\n",
       "      <td>CDXEM530</td>\n",
       "      <td>Trade</td>\n",
       "      <td>Level</td>\n",
       "      <td>10000000.0</td>\n",
       "      <td>205.632580</td>\n",
       "      <td>95.32</td>\n",
       "      <td>4.68</td>\n",
       "      <td>0.0</td>\n",
       "      <td>Dtcc OTC</td>\n",
       "      <td>2018-12-11 13:33:06</td>\n",
       "      <td>...</td>\n",
       "      <td>CDXEM30</td>\n",
       "      <td>CDX.EM.30</td>\n",
       "      <td>2023-12-20</td>\n",
       "      <td>5Y</td>\n",
       "      <td>SEN</td>\n",
       "      <td>NaN</td>\n",
       "      <td>USD</td>\n",
       "      <td>100.0</td>\n",
       "      <td>CIS</td>\n",
       "      <td>CDXEM</td>\n",
       "    </tr>\n",
       "    <tr>\n",
       "      <th>2018-12-11 13:45:45</th>\n",
       "      <td>CDXEM530</td>\n",
       "      <td>Trade</td>\n",
       "      <td>Level</td>\n",
       "      <td>10000000.0</td>\n",
       "      <td>204.698145</td>\n",
       "      <td>95.36</td>\n",
       "      <td>4.64</td>\n",
       "      <td>0.0</td>\n",
       "      <td>Dtcc SEF</td>\n",
       "      <td>2018-12-11 13:45:45</td>\n",
       "      <td>...</td>\n",
       "      <td>CDXEM30</td>\n",
       "      <td>CDX.EM.30</td>\n",
       "      <td>2023-12-20</td>\n",
       "      <td>5Y</td>\n",
       "      <td>SEN</td>\n",
       "      <td>NaN</td>\n",
       "      <td>USD</td>\n",
       "      <td>100.0</td>\n",
       "      <td>CIS</td>\n",
       "      <td>CDXEM</td>\n",
       "    </tr>\n",
       "    <tr>\n",
       "      <th>2018-12-11 13:45:53</th>\n",
       "      <td>CDXEM530</td>\n",
       "      <td>Trade</td>\n",
       "      <td>Level</td>\n",
       "      <td>10000000.0</td>\n",
       "      <td>204.698145</td>\n",
       "      <td>95.36</td>\n",
       "      <td>4.64</td>\n",
       "      <td>0.0</td>\n",
       "      <td>Dtcc SEF</td>\n",
       "      <td>2018-12-11 13:45:53</td>\n",
       "      <td>...</td>\n",
       "      <td>CDXEM30</td>\n",
       "      <td>CDX.EM.30</td>\n",
       "      <td>2023-12-20</td>\n",
       "      <td>5Y</td>\n",
       "      <td>SEN</td>\n",
       "      <td>NaN</td>\n",
       "      <td>USD</td>\n",
       "      <td>100.0</td>\n",
       "      <td>CIS</td>\n",
       "      <td>CDXEM</td>\n",
       "    </tr>\n",
       "  </tbody>\n",
       "</table>\n",
       "<p>5 rows × 21 columns</p>\n",
       "</div>"
      ],
      "text/plain": [
       "                       ticker priceType priceDirection        size  \\\n",
       "valueDate                                                            \n",
       "2018-12-11 13:20:39  CDXEM530     Trade          Level   3000000.0   \n",
       "2018-12-11 13:21:36  CDXEM530     Trade          Level  10000000.0   \n",
       "2018-12-11 13:33:06  CDXEM530     Trade          Level  10000000.0   \n",
       "2018-12-11 13:45:45  CDXEM530     Trade          Level  10000000.0   \n",
       "2018-12-11 13:45:53  CDXEM530     Trade          Level  10000000.0   \n",
       "\n",
       "                         spread  price  upfront  switchStatus      firm  \\\n",
       "valueDate                                                                 \n",
       "2018-12-11 13:20:39  204.931700  95.35     4.65           0.0  Dtcc SEF   \n",
       "2018-12-11 13:21:36  204.698145  95.36     4.64           0.0  Dtcc OTC   \n",
       "2018-12-11 13:33:06  205.632580  95.32     4.68           0.0  Dtcc OTC   \n",
       "2018-12-11 13:45:45  204.698145  95.36     4.64           0.0  Dtcc SEF   \n",
       "2018-12-11 13:45:53  204.698145  95.36     4.64           0.0  Dtcc SEF   \n",
       "\n",
       "                         valueDate_hour  ... creditCurve      label  \\\n",
       "valueDate                                ...                          \n",
       "2018-12-11 13:20:39 2018-12-11 13:20:39  ...     CDXEM30  CDX.EM.30   \n",
       "2018-12-11 13:21:36 2018-12-11 13:21:36  ...     CDXEM30  CDX.EM.30   \n",
       "2018-12-11 13:33:06 2018-12-11 13:33:06  ...     CDXEM30  CDX.EM.30   \n",
       "2018-12-11 13:45:45 2018-12-11 13:45:45  ...     CDXEM30  CDX.EM.30   \n",
       "2018-12-11 13:45:53 2018-12-11 13:45:53  ...     CDXEM30  CDX.EM.30   \n",
       "\n",
       "                       endDate maturity seniority docClause currency coupon  \\\n",
       "valueDate                                                                     \n",
       "2018-12-11 13:20:39 2023-12-20       5Y       SEN       NaN      USD  100.0   \n",
       "2018-12-11 13:21:36 2023-12-20       5Y       SEN       NaN      USD  100.0   \n",
       "2018-12-11 13:33:06 2023-12-20       5Y       SEN       NaN      USD  100.0   \n",
       "2018-12-11 13:45:45 2023-12-20       5Y       SEN       NaN      USD  100.0   \n",
       "2018-12-11 13:45:53 2023-12-20       5Y       SEN       NaN      USD  100.0   \n",
       "\n",
       "                     instrument family  \n",
       "valueDate                               \n",
       "2018-12-11 13:20:39         CIS  CDXEM  \n",
       "2018-12-11 13:21:36         CIS  CDXEM  \n",
       "2018-12-11 13:33:06         CIS  CDXEM  \n",
       "2018-12-11 13:45:45         CIS  CDXEM  \n",
       "2018-12-11 13:45:53         CIS  CDXEM  \n",
       "\n",
       "[5 rows x 21 columns]"
      ]
     },
     "execution_count": 20,
     "metadata": {},
     "output_type": "execute_result"
    }
   ],
   "source": [
    "df_trades.head()"
   ]
  },
  {
   "cell_type": "markdown",
   "metadata": {},
   "source": [
    "## 2. Trades Exploration"
   ]
  },
  {
   "cell_type": "markdown",
   "metadata": {},
   "source": [
    "### 2.1 CDS types traded/Day "
   ]
  },
  {
   "cell_type": "markdown",
   "metadata": {},
   "source": [
    "Find the number different of versions of cds traded each day"
   ]
  },
  {
   "cell_type": "code",
   "execution_count": 21,
   "metadata": {},
   "outputs": [],
   "source": [
    "df_trades_timeseries = df_trades.groupby(['family', pd.Grouper(freq='D')]).agg({'ticker': pd.Series.nunique})\n",
    "df_trades_timeseries.columns = ['NbVersionTickers']"
   ]
  },
  {
   "cell_type": "code",
   "execution_count": 22,
   "metadata": {},
   "outputs": [
    {
     "data": {
      "text/html": [
       "<div>\n",
       "<style scoped>\n",
       "    .dataframe tbody tr th:only-of-type {\n",
       "        vertical-align: middle;\n",
       "    }\n",
       "\n",
       "    .dataframe tbody tr th {\n",
       "        vertical-align: top;\n",
       "    }\n",
       "\n",
       "    .dataframe thead th {\n",
       "        text-align: right;\n",
       "    }\n",
       "</style>\n",
       "<table border=\"1\" class=\"dataframe\">\n",
       "  <thead>\n",
       "    <tr style=\"text-align: right;\">\n",
       "      <th></th>\n",
       "      <th></th>\n",
       "      <th>NbVersionTickers</th>\n",
       "    </tr>\n",
       "    <tr>\n",
       "      <th>family</th>\n",
       "      <th>valueDate</th>\n",
       "      <th></th>\n",
       "    </tr>\n",
       "  </thead>\n",
       "  <tbody>\n",
       "    <tr>\n",
       "      <th rowspan=\"5\" valign=\"top\">CDXEM</th>\n",
       "      <th>2012-02-13</th>\n",
       "      <td>1</td>\n",
       "    </tr>\n",
       "    <tr>\n",
       "      <th>2012-03-13</th>\n",
       "      <td>1</td>\n",
       "    </tr>\n",
       "    <tr>\n",
       "      <th>2012-03-14</th>\n",
       "      <td>1</td>\n",
       "    </tr>\n",
       "    <tr>\n",
       "      <th>2012-05-14</th>\n",
       "      <td>1</td>\n",
       "    </tr>\n",
       "    <tr>\n",
       "      <th>2012-05-16</th>\n",
       "      <td>1</td>\n",
       "    </tr>\n",
       "    <tr>\n",
       "      <th>...</th>\n",
       "      <th>...</th>\n",
       "      <td>...</td>\n",
       "    </tr>\n",
       "    <tr>\n",
       "      <th rowspan=\"5\" valign=\"top\">ITXEX</th>\n",
       "      <th>2020-04-02</th>\n",
       "      <td>1</td>\n",
       "    </tr>\n",
       "    <tr>\n",
       "      <th>2020-04-03</th>\n",
       "      <td>2</td>\n",
       "    </tr>\n",
       "    <tr>\n",
       "      <th>2020-04-06</th>\n",
       "      <td>1</td>\n",
       "    </tr>\n",
       "    <tr>\n",
       "      <th>2020-04-07</th>\n",
       "      <td>1</td>\n",
       "    </tr>\n",
       "    <tr>\n",
       "      <th>2020-04-08</th>\n",
       "      <td>1</td>\n",
       "    </tr>\n",
       "  </tbody>\n",
       "</table>\n",
       "<p>11492 rows × 1 columns</p>\n",
       "</div>"
      ],
      "text/plain": [
       "                   NbVersionTickers\n",
       "family valueDate                   \n",
       "CDXEM  2012-02-13                 1\n",
       "       2012-03-13                 1\n",
       "       2012-03-14                 1\n",
       "       2012-05-14                 1\n",
       "       2012-05-16                 1\n",
       "...                             ...\n",
       "ITXEX  2020-04-02                 1\n",
       "       2020-04-03                 2\n",
       "       2020-04-06                 1\n",
       "       2020-04-07                 1\n",
       "       2020-04-08                 1\n",
       "\n",
       "[11492 rows x 1 columns]"
      ]
     },
     "execution_count": 22,
     "metadata": {},
     "output_type": "execute_result"
    }
   ],
   "source": [
    "df_trades_timeseries"
   ]
  },
  {
   "cell_type": "code",
   "execution_count": 23,
   "metadata": {},
   "outputs": [],
   "source": [
    "df_trades_timeseries.reset_index(inplace=True)\n",
    "df_trades_timeseries.set_index('valueDate',inplace=True)"
   ]
  },
  {
   "cell_type": "markdown",
   "metadata": {},
   "source": [
    "We see clearly that for each there is in general a few type of indeces traded"
   ]
  },
  {
   "cell_type": "code",
   "execution_count": 24,
   "metadata": {},
   "outputs": [
    {
     "data": {
      "text/plain": [
       "(array([9.048e+03, 1.630e+03, 6.250e+02, 1.120e+02, 5.000e+01, 1.300e+01,\n",
       "        1.000e+01, 0.000e+00, 1.000e+00, 3.000e+00]),\n",
       " array([ 1. ,  4.5,  8. , 11.5, 15. , 18.5, 22. , 25.5, 29. , 32.5, 36. ]),\n",
       " <BarContainer object of 10 artists>)"
      ]
     },
     "execution_count": 24,
     "metadata": {},
     "output_type": "execute_result"
    },
    {
     "data": {
      "image/png": "[encoded data removed]",
      "text/plain": [
       "<Figure size 432x288 with 1 Axes>"
      ]
     },
     "metadata": {
      "needs_background": "light"
     },
     "output_type": "display_data"
    }
   ],
   "source": [
    "plt.hist(df_trades_timeseries.NbVersionTickers)"
   ]
  },
  {
   "cell_type": "markdown",
   "metadata": {},
   "source": [
    "### 2.2 Extract latest trades on newest version of CDS"
   ]
  },
  {
   "cell_type": "code",
   "execution_count": 25,
   "metadata": {},
   "outputs": [
    {
     "data": {
      "text/plain": [
       "ticker                   0\n",
       "priceType                0\n",
       "priceDirection           0\n",
       "size                     4\n",
       "spread               36382\n",
       "price                 5157\n",
       "upfront               5194\n",
       "switchStatus          5157\n",
       "firm                     0\n",
       "valueDate_hour           0\n",
       "ticker_universe          0\n",
       "creditCurve              0\n",
       "label                    0\n",
       "endDate                  0\n",
       "maturity                 0\n",
       "seniority                0\n",
       "docClause           229891\n",
       "currency                 0\n",
       "coupon                   0\n",
       "instrument               0\n",
       "family                   0\n",
       "NbVersionTickers         0\n",
       "dtype: int64"
      ]
     },
     "execution_count": 25,
     "metadata": {},
     "output_type": "execute_result"
    }
   ],
   "source": [
    "df_trades_merge = df_trades.merge(df_trades_timeseries, how='left', left_on= ['family',  df_trades.index.year,df_trades.index.month,df_trades.index.day], right_on = ['family',  df_trades_timeseries.index.year,df_trades_timeseries.index.month,df_trades_timeseries.index.day])\n",
    "df_trades_merge.drop(['key_1','key_2','key_3'], axis=1, inplace= True)\n",
    "df_trades_merge.isna().sum()"
   ]
  },
  {
   "cell_type": "code",
   "execution_count": 26,
   "metadata": {},
   "outputs": [
    {
     "data": {
      "text/html": [
       "<div>\n",
       "<style scoped>\n",
       "    .dataframe tbody tr th:only-of-type {\n",
       "        vertical-align: middle;\n",
       "    }\n",
       "\n",
       "    .dataframe tbody tr th {\n",
       "        vertical-align: top;\n",
       "    }\n",
       "\n",
       "    .dataframe thead th {\n",
       "        text-align: right;\n",
       "    }\n",
       "</style>\n",
       "<table border=\"1\" class=\"dataframe\">\n",
       "  <thead>\n",
       "    <tr style=\"text-align: right;\">\n",
       "      <th></th>\n",
       "      <th>ticker</th>\n",
       "      <th>priceType</th>\n",
       "      <th>priceDirection</th>\n",
       "      <th>size</th>\n",
       "      <th>spread</th>\n",
       "      <th>price</th>\n",
       "      <th>upfront</th>\n",
       "      <th>switchStatus</th>\n",
       "      <th>firm</th>\n",
       "      <th>valueDate_hour</th>\n",
       "      <th>...</th>\n",
       "      <th>label</th>\n",
       "      <th>endDate</th>\n",
       "      <th>maturity</th>\n",
       "      <th>seniority</th>\n",
       "      <th>docClause</th>\n",
       "      <th>currency</th>\n",
       "      <th>coupon</th>\n",
       "      <th>instrument</th>\n",
       "      <th>family</th>\n",
       "      <th>NbVersionTickers</th>\n",
       "    </tr>\n",
       "  </thead>\n",
       "  <tbody>\n",
       "    <tr>\n",
       "      <th>0</th>\n",
       "      <td>CDXEM530</td>\n",
       "      <td>Trade</td>\n",
       "      <td>Level</td>\n",
       "      <td>3000000.0</td>\n",
       "      <td>204.931700</td>\n",
       "      <td>95.35</td>\n",
       "      <td>4.65</td>\n",
       "      <td>0.0</td>\n",
       "      <td>Dtcc SEF</td>\n",
       "      <td>2018-12-11 13:20:39</td>\n",
       "      <td>...</td>\n",
       "      <td>CDX.EM.30</td>\n",
       "      <td>2023-12-20</td>\n",
       "      <td>5Y</td>\n",
       "      <td>SEN</td>\n",
       "      <td>NaN</td>\n",
       "      <td>USD</td>\n",
       "      <td>100.0</td>\n",
       "      <td>CIS</td>\n",
       "      <td>CDXEM</td>\n",
       "      <td>1</td>\n",
       "    </tr>\n",
       "    <tr>\n",
       "      <th>1</th>\n",
       "      <td>CDXEM530</td>\n",
       "      <td>Trade</td>\n",
       "      <td>Level</td>\n",
       "      <td>10000000.0</td>\n",
       "      <td>204.698145</td>\n",
       "      <td>95.36</td>\n",
       "      <td>4.64</td>\n",
       "      <td>0.0</td>\n",
       "      <td>Dtcc OTC</td>\n",
       "      <td>2018-12-11 13:21:36</td>\n",
       "      <td>...</td>\n",
       "      <td>CDX.EM.30</td>\n",
       "      <td>2023-12-20</td>\n",
       "      <td>5Y</td>\n",
       "      <td>SEN</td>\n",
       "      <td>NaN</td>\n",
       "      <td>USD</td>\n",
       "      <td>100.0</td>\n",
       "      <td>CIS</td>\n",
       "      <td>CDXEM</td>\n",
       "      <td>1</td>\n",
       "    </tr>\n",
       "    <tr>\n",
       "      <th>2</th>\n",
       "      <td>CDXEM530</td>\n",
       "      <td>Trade</td>\n",
       "      <td>Level</td>\n",
       "      <td>10000000.0</td>\n",
       "      <td>205.632580</td>\n",
       "      <td>95.32</td>\n",
       "      <td>4.68</td>\n",
       "      <td>0.0</td>\n",
       "      <td>Dtcc OTC</td>\n",
       "      <td>2018-12-11 13:33:06</td>\n",
       "      <td>...</td>\n",
       "      <td>CDX.EM.30</td>\n",
       "      <td>2023-12-20</td>\n",
       "      <td>5Y</td>\n",
       "      <td>SEN</td>\n",
       "      <td>NaN</td>\n",
       "      <td>USD</td>\n",
       "      <td>100.0</td>\n",
       "      <td>CIS</td>\n",
       "      <td>CDXEM</td>\n",
       "      <td>1</td>\n",
       "    </tr>\n",
       "    <tr>\n",
       "      <th>3</th>\n",
       "      <td>CDXEM530</td>\n",
       "      <td>Trade</td>\n",
       "      <td>Level</td>\n",
       "      <td>10000000.0</td>\n",
       "      <td>204.698145</td>\n",
       "      <td>95.36</td>\n",
       "      <td>4.64</td>\n",
       "      <td>0.0</td>\n",
       "      <td>Dtcc SEF</td>\n",
       "      <td>2018-12-11 13:45:45</td>\n",
       "      <td>...</td>\n",
       "      <td>CDX.EM.30</td>\n",
       "      <td>2023-12-20</td>\n",
       "      <td>5Y</td>\n",
       "      <td>SEN</td>\n",
       "      <td>NaN</td>\n",
       "      <td>USD</td>\n",
       "      <td>100.0</td>\n",
       "      <td>CIS</td>\n",
       "      <td>CDXEM</td>\n",
       "      <td>1</td>\n",
       "    </tr>\n",
       "    <tr>\n",
       "      <th>4</th>\n",
       "      <td>CDXEM530</td>\n",
       "      <td>Trade</td>\n",
       "      <td>Level</td>\n",
       "      <td>10000000.0</td>\n",
       "      <td>204.698145</td>\n",
       "      <td>95.36</td>\n",
       "      <td>4.64</td>\n",
       "      <td>0.0</td>\n",
       "      <td>Dtcc SEF</td>\n",
       "      <td>2018-12-11 13:45:53</td>\n",
       "      <td>...</td>\n",
       "      <td>CDX.EM.30</td>\n",
       "      <td>2023-12-20</td>\n",
       "      <td>5Y</td>\n",
       "      <td>SEN</td>\n",
       "      <td>NaN</td>\n",
       "      <td>USD</td>\n",
       "      <td>100.0</td>\n",
       "      <td>CIS</td>\n",
       "      <td>CDXEM</td>\n",
       "      <td>1</td>\n",
       "    </tr>\n",
       "  </tbody>\n",
       "</table>\n",
       "<p>5 rows × 22 columns</p>\n",
       "</div>"
      ],
      "text/plain": [
       "     ticker priceType priceDirection        size      spread  price  upfront  \\\n",
       "0  CDXEM530     Trade          Level   3000000.0  204.931700  95.35     4.65   \n",
       "1  CDXEM530     Trade          Level  10000000.0  204.698145  95.36     4.64   \n",
       "2  CDXEM530     Trade          Level  10000000.0  205.632580  95.32     4.68   \n",
       "3  CDXEM530     Trade          Level  10000000.0  204.698145  95.36     4.64   \n",
       "4  CDXEM530     Trade          Level  10000000.0  204.698145  95.36     4.64   \n",
       "\n",
       "   switchStatus      firm      valueDate_hour  ...      label    endDate  \\\n",
       "0           0.0  Dtcc SEF 2018-12-11 13:20:39  ...  CDX.EM.30 2023-12-20   \n",
       "1           0.0  Dtcc OTC 2018-12-11 13:21:36  ...  CDX.EM.30 2023-12-20   \n",
       "2           0.0  Dtcc OTC 2018-12-11 13:33:06  ...  CDX.EM.30 2023-12-20   \n",
       "3           0.0  Dtcc SEF 2018-12-11 13:45:45  ...  CDX.EM.30 2023-12-20   \n",
       "4           0.0  Dtcc SEF 2018-12-11 13:45:53  ...  CDX.EM.30 2023-12-20   \n",
       "\n",
       "  maturity seniority docClause currency coupon instrument  family  \\\n",
       "0       5Y       SEN       NaN      USD  100.0        CIS   CDXEM   \n",
       "1       5Y       SEN       NaN      USD  100.0        CIS   CDXEM   \n",
       "2       5Y       SEN       NaN      USD  100.0        CIS   CDXEM   \n",
       "3       5Y       SEN       NaN      USD  100.0        CIS   CDXEM   \n",
       "4       5Y       SEN       NaN      USD  100.0        CIS   CDXEM   \n",
       "\n",
       "  NbVersionTickers  \n",
       "0                1  \n",
       "1                1  \n",
       "2                1  \n",
       "3                1  \n",
       "4                1  \n",
       "\n",
       "[5 rows x 22 columns]"
      ]
     },
     "execution_count": 26,
     "metadata": {},
     "output_type": "execute_result"
    }
   ],
   "source": [
    "df_trades_merge.head()"
   ]
  },
  {
   "cell_type": "markdown",
   "metadata": {},
   "source": [
    "We extract the version of the cds and we set the index to the datetime of the quote"
   ]
  },
  {
   "cell_type": "code",
   "execution_count": 27,
   "metadata": {},
   "outputs": [],
   "source": [
    "df_trades_merge['Version'] = df_trades_merge['ticker'].apply(lambda x: x[-2:])\n",
    "df_trades_merge['valueDate'] = df_trades_merge['valueDate_hour']\n",
    "df_trades_merge.set_index('valueDate_hour', inplace = True)"
   ]
  },
  {
   "cell_type": "markdown",
   "metadata": {},
   "source": [
    "We select the latest version of the cds traded on a specific day"
   ]
  },
  {
   "cell_type": "code",
   "execution_count": 28,
   "metadata": {},
   "outputs": [],
   "source": [
    "df_version = df_trades_merge.groupby(['family', pd.Grouper(freq='D')]).agg({'Version': 'max'})\n",
    "df_version.columns = ['MaxVersion']\n",
    "df_version.reset_index(inplace=True)\n",
    "df_version.set_index('valueDate_hour', inplace = True)"
   ]
  },
  {
   "cell_type": "markdown",
   "metadata": {},
   "source": [
    "We add the latest version to the orginal trades dataset"
   ]
  },
  {
   "cell_type": "code",
   "execution_count": 29,
   "metadata": {},
   "outputs": [],
   "source": [
    "df_trades_merge = df_trades_merge.merge(df_version, how='left', left_on= ['family',  df_trades_merge.index.year,df_trades_merge.index.month,df_trades_merge.index.day], right_on = ['family',  df_version.index.year,df_version.index.month,df_version.index.day])\n",
    "df_trades_merge.set_index('valueDate',inplace=True)"
   ]
  },
  {
   "cell_type": "markdown",
   "metadata": {},
   "source": [
    "We Select the trades with the latest version."
   ]
  },
  {
   "cell_type": "code",
   "execution_count": 30,
   "metadata": {},
   "outputs": [],
   "source": [
    "df_trades_final = df_trades_merge.query('Version == MaxVersion').copy()\n",
    "df_trades_final.drop(['key_1', 'key_2', 'key_3'], axis=1, inplace=True)\n",
    "df_trades_final.sort_index(inplace=True)"
   ]
  },
  {
   "cell_type": "markdown",
   "metadata": {},
   "source": [
    "### 2.3 Compute Average Spread"
   ]
  },
  {
   "cell_type": "markdown",
   "metadata": {},
   "source": [
    "Remove spreads with null value"
   ]
  },
  {
   "cell_type": "code",
   "execution_count": 31,
   "metadata": {},
   "outputs": [],
   "source": [
    "df_trades_final.dropna(subset=['spread'], inplace=True)"
   ]
  },
  {
   "cell_type": "markdown",
   "metadata": {},
   "source": [
    "Compute daily mean spread"
   ]
  },
  {
   "cell_type": "code",
   "execution_count": 32,
   "metadata": {},
   "outputs": [],
   "source": [
    "g = df_trades_final.groupby(['family',pd.Grouper(freq='D')])\n",
    "df_mean = g.apply(lambda x: pd.Series([np.average(x['spread'], weights=x['size'])], index =['weighted_spread']))\n",
    "df_mean['mean_spread'] = df_trades_final.groupby(['family',pd.Grouper(freq = 'D')]).agg({'spread':'mean'})\n",
    "df_mean.reset_index(inplace=True)"
   ]
  },
  {
   "cell_type": "markdown",
   "metadata": {},
   "source": [
    "Compute the number of days between each trade"
   ]
  },
  {
   "cell_type": "code",
   "execution_count": 33,
   "metadata": {},
   "outputs": [],
   "source": [
    "df_mean['date_diff'] = (df_mean['valueDate']\n",
    "                        .groupby(df_mean['family'])\n",
    "                        .diff()\n",
    "                        .dt.days\n",
    "                        .fillna(0, downcast='infer'))\n",
    "df_mean.set_index('valueDate', inplace=True)\n",
    "df_mean.sort_index(inplace=True, ascending=False)"
   ]
  },
  {
   "cell_type": "markdown",
   "metadata": {},
   "source": [
    "Plot the number of days between each trade"
   ]
  },
  {
   "cell_type": "code",
   "execution_count": 34,
   "metadata": {},
   "outputs": [
    {
     "data": {
      "image/png": "[encoded data removed]",
      "text/plain": [
       "<Figure size 576x432 with 6 Axes>"
      ]
     },
     "metadata": {
      "needs_background": "light"
     },
     "output_type": "display_data"
    }
   ],
   "source": [
    "g = df_mean.groupby('family')\n",
    "\n",
    "fig, axes = plt.subplots(g.ngroups, sharex=True, figsize=(8, 6))\n",
    "\n",
    "for i, (family, d) in enumerate(g):\n",
    "    ax = d.plot.line(y='date_diff', ax=axes[i], title=family)\n",
    "    ax.legend().remove()\n",
    "\n",
    "fig.tight_layout()\n",
    "plt.savefig('figures/disc.eps')"
   ]
  },
  {
   "cell_type": "markdown",
   "metadata": {},
   "source": [
    "Remove 2012 data"
   ]
  },
  {
   "cell_type": "code",
   "execution_count": 35,
   "metadata": {},
   "outputs": [],
   "source": [
    "df_trades_final = df_trades_final.loc[df_trades_final.index>datetime.datetime(2013,1,1,0,0,0),:]\n",
    "df_trades_final.drop('MaxVersion', axis=1, inplace=True)\n",
    "df_trades_final.sort_index(inplace=True)"
   ]
  },
  {
   "cell_type": "markdown",
   "metadata": {},
   "source": [
    "compute mad score"
   ]
  },
  {
   "cell_type": "code",
   "execution_count": 36,
   "metadata": {},
   "outputs": [],
   "source": [
    "g = df_trades_final.groupby(['family',pd.Grouper(freq='D')])\n",
    "df_trades_statitics = g.apply(lambda x: pd.Series([np.average(x['spread'], weights=x['size'])], index =['weighted_spread']))\n",
    "df_trades_statitics['mean_spread'] = df_trades_final.groupby(['family',pd.Grouper(freq = 'D')]).agg({'spread':'mean'})\n",
    "df_trades_statitics[['spread_mad','spread_median']] = df_trades_final.groupby(['family',pd.Grouper(freq = 'D')]).agg({'spread':['mad','median']})"
   ]
  },
  {
   "cell_type": "code",
   "execution_count": 37,
   "metadata": {},
   "outputs": [
    {
     "data": {
      "text/html": [
       "<div>\n",
       "<style scoped>\n",
       "    .dataframe tbody tr th:only-of-type {\n",
       "        vertical-align: middle;\n",
       "    }\n",
       "\n",
       "    .dataframe tbody tr th {\n",
       "        vertical-align: top;\n",
       "    }\n",
       "\n",
       "    .dataframe thead th {\n",
       "        text-align: right;\n",
       "    }\n",
       "</style>\n",
       "<table border=\"1\" class=\"dataframe\">\n",
       "  <thead>\n",
       "    <tr style=\"text-align: right;\">\n",
       "      <th></th>\n",
       "      <th></th>\n",
       "      <th>weighted_spread</th>\n",
       "      <th>mean_spread</th>\n",
       "      <th>spread_mad</th>\n",
       "      <th>spread_median</th>\n",
       "    </tr>\n",
       "    <tr>\n",
       "      <th>family</th>\n",
       "      <th>valueDate</th>\n",
       "      <th></th>\n",
       "      <th></th>\n",
       "      <th></th>\n",
       "      <th></th>\n",
       "    </tr>\n",
       "  </thead>\n",
       "  <tbody>\n",
       "    <tr>\n",
       "      <th rowspan=\"5\" valign=\"top\">CDXEM</th>\n",
       "      <th>2013-01-02</th>\n",
       "      <td>195.454981</td>\n",
       "      <td>196.137538</td>\n",
       "      <td>2.024761</td>\n",
       "      <td>195.4992</td>\n",
       "    </tr>\n",
       "    <tr>\n",
       "      <th>2013-01-03</th>\n",
       "      <td>191.856722</td>\n",
       "      <td>192.269740</td>\n",
       "      <td>1.047772</td>\n",
       "      <td>192.3277</td>\n",
       "    </tr>\n",
       "    <tr>\n",
       "      <th>2013-01-04</th>\n",
       "      <td>191.831021</td>\n",
       "      <td>191.476700</td>\n",
       "      <td>0.489300</td>\n",
       "      <td>191.4767</td>\n",
       "    </tr>\n",
       "    <tr>\n",
       "      <th>2013-01-07</th>\n",
       "      <td>193.833501</td>\n",
       "      <td>194.046000</td>\n",
       "      <td>1.521700</td>\n",
       "      <td>194.4873</td>\n",
       "    </tr>\n",
       "    <tr>\n",
       "      <th>2013-01-08</th>\n",
       "      <td>202.845663</td>\n",
       "      <td>203.094589</td>\n",
       "      <td>1.335751</td>\n",
       "      <td>203.2471</td>\n",
       "    </tr>\n",
       "  </tbody>\n",
       "</table>\n",
       "</div>"
      ],
      "text/plain": [
       "                   weighted_spread  mean_spread  spread_mad  spread_median\n",
       "family valueDate                                                          \n",
       "CDXEM  2013-01-02       195.454981   196.137538    2.024761       195.4992\n",
       "       2013-01-03       191.856722   192.269740    1.047772       192.3277\n",
       "       2013-01-04       191.831021   191.476700    0.489300       191.4767\n",
       "       2013-01-07       193.833501   194.046000    1.521700       194.4873\n",
       "       2013-01-08       202.845663   203.094589    1.335751       203.2471"
      ]
     },
     "execution_count": 37,
     "metadata": {},
     "output_type": "execute_result"
    }
   ],
   "source": [
    "df_trades_statitics.head()"
   ]
  },
  {
   "cell_type": "code",
   "execution_count": 38,
   "metadata": {},
   "outputs": [],
   "source": [
    "df_trades_final.reset_index(inplace=True)\n",
    "df_trades_final.reset_index(inplace=True)\n",
    "df_trades_final.rename(columns = {'index':'TransactionID'}, inplace=True)\n",
    "df_trades_final.set_index('valueDate', inplace=True)\n",
    "df_trades_final.sort_index(inplace=True)"
   ]
  },
  {
   "cell_type": "markdown",
   "metadata": {},
   "source": [
    "Compute the mad score for each trade"
   ]
  },
  {
   "cell_type": "code",
   "execution_count": 39,
   "metadata": {},
   "outputs": [],
   "source": [
    "# mad score template\n",
    "mad1 = lambda x: np.fabs(x - x.median()).median()\n",
    "df_trades_mad = df_trades_final.groupby('family').rolling(window=100).agg({'spread':[mad1,'median'], 'TransactionID': 'max'}).reset_index()\n",
    "df_trades_mad.columns = ['family','valueDate','MADRollingSpread','Median','TransactionID']\n",
    "df_trades_mad.dropna(subset=['Median'], inplace=True)\n",
    "df_trades_mad['TransactionID'] = df_trades_mad['TransactionID'].astype(int)"
   ]
  },
  {
   "cell_type": "markdown",
   "metadata": {},
   "source": [
    "Join the newly computed mad score on the trades dataframe"
   ]
  },
  {
   "cell_type": "code",
   "execution_count": 40,
   "metadata": {},
   "outputs": [],
   "source": [
    "df_trades_final = df_trades_final.merge(df_trades_mad, how='left', left_on = ['TransactionID'], right_on = ['TransactionID'])\n",
    "df_trades_final.dropna(subset=['MADRollingSpread','Median'], inplace=True)\n",
    "df_trades_final['ModifiedZScore'] = 0.6745* (df_trades_final['spread']-df_trades_final['Median'])/df_trades_final['MADRollingSpread']\n",
    "# Select trades with z scores < 3.5\n",
    "df_trades_final = df_trades_final.loc[abs(df_trades_final['ModifiedZScore'])<=3.5,:]"
   ]
  },
  {
   "cell_type": "code",
   "execution_count": 41,
   "metadata": {},
   "outputs": [],
   "source": [
    "# Cleanup data frame\n",
    "df_trades_final.set_index('TransactionID',inplace=True)\n",
    "df_trades_final.drop('family_y', axis=1,inplace=True)\n",
    "df_trades_final = df_trades_final.rename(columns={'family_x':'family'})"
   ]
  },
  {
   "cell_type": "code",
   "execution_count": 42,
   "metadata": {},
   "outputs": [],
   "source": [
    "df_trades_final = df_trades_final.groupby(['family','valueDate']).agg({'spread':'median', 'size': 'median'}).reset_index().set_index('valueDate')"
   ]
  },
  {
   "cell_type": "markdown",
   "metadata": {},
   "source": [
    "Save dataframe to right environment"
   ]
  },
  {
   "cell_type": "code",
   "execution_count": 43,
   "metadata": {},
   "outputs": [],
   "source": [
    "df_trades_final.to_csv('TradesCleaned.csv')"
   ]
  },
  {
   "cell_type": "markdown",
   "metadata": {},
   "source": [
    "# 3. Package"
   ]
  },
  {
   "cell_type": "code",
   "execution_count": 44,
   "metadata": {},
   "outputs": [],
   "source": [
    "# pip install cds-eda-0.1.0.tar.gz"
   ]
  },
  {
   "cell_type": "code",
   "execution_count": 45,
   "metadata": {},
   "outputs": [],
   "source": [
    "from cds_eda import cleaning, eda"
   ]
  },
  {
   "cell_type": "code",
   "execution_count": 46,
   "metadata": {},
   "outputs": [
    {
     "name": "stdout",
     "output_type": "stream",
     "text": [
      "(1163226, 3)\n"
     ]
    }
   ],
   "source": [
    "import pandas as pd\n",
    "\n",
    "dftrades = pd.read_csv('Trades.csv',header=None)\n",
    "dfuniverse = pd.read_csv('Universe.csv',header=None)\n",
    "\n",
    "dftrades = cleaning(dftrades,'Trades').dataFrameCleaning()\n",
    "dfuniverse = cleaning(dfuniverse,'Universe').dataFrameCleaning()\n",
    "\n",
    "trades = eda(dftrades)\n",
    "dftrades = trades.addUniverse(dfuniverse)\n",
    "dftrades = trades.selectCdsFamily()\n",
    "dftrades = trades.versionsDay()\n",
    "dftrades = trades.keepLatestVersion()\n",
    "dftrades = trades.removeInsufficientData(0.25, 3, Group = 'Y')\n",
    "dftrades = trades.removeOutliers()\n",
    "dftrades = trades.aggregateTimeSimilar()\n",
    "print(dftrades.shape)"
   ]
  }
 ],
 "metadata": {
  "kernelspec": {
   "display_name": "Python 3",
   "language": "python",
   "name": "python3"
  },
  "language_info": {
   "codemirror_mode": {
    "name": "ipython",
    "version": 3
   },
   "file_extension": ".py",
   "mimetype": "text/x-python",
   "name": "python",
   "nbconvert_exporter": "python",
   "pygments_lexer": "ipython3",
   "version": "3.7.6"
  }
 },
 "nbformat": 4,
 "nbformat_minor": 4
}
